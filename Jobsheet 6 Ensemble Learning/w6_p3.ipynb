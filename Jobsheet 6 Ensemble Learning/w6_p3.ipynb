{
 "cells": [
  {
   "cell_type": "markdown",
   "metadata": {},
   "source": [
    "# Praktikum 3 - stackking"
   ]
  },
  {
   "cell_type": "markdown",
   "metadata": {},
   "source": [
    "## Stacking\n",
    "Lengkapi bagian berikut dengan data sesuai tugas, dan tentukan perbedaan nilai akurasi antara Random Forest, Adaboost, dan Stacking"
   ]
  },
  {
   "cell_type": "code",
   "execution_count": 2,
   "metadata": {},
   "outputs": [
    {
     "name": "stdout",
     "output_type": "stream",
     "text": [
      "Accuracy of Random Forest: 0.9211\n",
      "Accuracy of AdaBoost: 0.8947\n",
      "Accuracy of Stacking: 0.9474\n",
      "Difference (Stacking - Random Forest): 0.0263\n",
      "Difference (Stacking - AdaBoost): 0.0526\n"
     ]
    }
   ],
   "source": [
    "from sklearn.datasets import load_iris\n",
    "from sklearn.ensemble import RandomForestClassifier, StackingClassifier, AdaBoostClassifier\n",
    "from sklearn.linear_model import LogisticRegression\n",
    "from sklearn.neighbors import KNeighborsClassifier\n",
    "from sklearn.tree import DecisionTreeClassifier\n",
    "from sklearn.model_selection import train_test_split\n",
    "from sklearn.metrics import accuracy_score\n",
    "\n",
    "# Load dataset\n",
    "iris = load_iris()\n",
    "X, y = iris.data, iris.target\n",
    "\n",
    "# Split data menjadi training dan testing\n",
    "X_train, X_test, y_train, y_test = train_test_split(X, y, stratify=y, random_state=42)\n",
    "\n",
    "# Definisikan layer pertama\n",
    "layer_one_estimators = [\n",
    "    ('rf_1', RandomForestClassifier(n_estimators=10, random_state=42)),\n",
    "    ('knn_1', KNeighborsClassifier(n_neighbors=5))\n",
    "]\n",
    "\n",
    "# Definisikan layer kedua\n",
    "layer_two_estimators = [\n",
    "    ('dt_2', DecisionTreeClassifier()),\n",
    "    ('rf_2', RandomForestClassifier(n_estimators=50, random_state=42)),\n",
    "]\n",
    "layer_two = StackingClassifier(estimators=layer_two_estimators, final_estimator=LogisticRegression())\n",
    "\n",
    "# Definisikan Stacking Classifier\n",
    "clf = StackingClassifier(estimators=layer_one_estimators, final_estimator=layer_two)\n",
    "\n",
    "# Fit dan prediksi dengan model stacking\n",
    "clf.fit(X_train, y_train)\n",
    "y_pred_stacking = clf.predict(X_test)\n",
    "stacking_accuracy = accuracy_score(y_test, y_pred_stacking)\n",
    "\n",
    "# Fit dan prediksi dengan Random Forest\n",
    "rf = RandomForestClassifier(n_estimators=50, random_state=42)\n",
    "rf.fit(X_train, y_train)\n",
    "y_pred_rf = rf.predict(X_test)\n",
    "rf_accuracy = accuracy_score(y_test, y_pred_rf)\n",
    "\n",
    "# Fit dan prediksi dengan AdaBoost\n",
    "adaboost = AdaBoostClassifier(n_estimators=50, random_state=42)\n",
    "adaboost.fit(X_train, y_train)\n",
    "y_pred_adaboost = adaboost.predict(X_test)\n",
    "adaboost_accuracy = accuracy_score(y_test, y_pred_adaboost)\n",
    "\n",
    "# Tampilkan hasil akurasi\n",
    "print(f\"Accuracy of Random Forest: {rf_accuracy:.4f}\")\n",
    "print(f\"Accuracy of AdaBoost: {adaboost_accuracy:.4f}\")\n",
    "print(f\"Accuracy of Stacking: {stacking_accuracy:.4f}\")\n",
    "\n",
    "# Perbedaan nilai akurasi\n",
    "print(f\"Difference (Stacking - Random Forest): {stacking_accuracy - rf_accuracy:.4f}\")\n",
    "print(f\"Difference (Stacking - AdaBoost): {stacking_accuracy - adaboost_accuracy:.4f}\")\n"
   ]
  }
 ],
 "metadata": {
  "kernelspec": {
   "display_name": "base",
   "language": "python",
   "name": "python3"
  },
  "language_info": {
   "codemirror_mode": {
    "name": "ipython",
    "version": 3
   },
   "file_extension": ".py",
   "mimetype": "text/x-python",
   "name": "python",
   "nbconvert_exporter": "python",
   "pygments_lexer": "ipython3",
   "version": "3.11.5"
  }
 },
 "nbformat": 4,
 "nbformat_minor": 2
}
